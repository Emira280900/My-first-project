{
 "cells": [
  {
   "cell_type": "markdown",
   "metadata": {},
   "source": [
    "# This is Jeopardy!"
   ]
  },
  {
   "cell_type": "markdown",
   "metadata": {},
   "source": [
    "#### Overview"
   ]
  },
  {
   "cell_type": "markdown",
   "metadata": {},
   "source": [
    "This project is slightly different than others you have encountered thus far. Instead of a step-by-step tutorial, this project contains a series of open-ended requirements which describe the project you'll be building. There are many possible ways to correctly fulfill all of these requirements, and you should expect to use the internet, Codecademy, and/or other resources when you encounter a problem that you cannot easily solve."
   ]
  },
  {
   "cell_type": "markdown",
   "metadata": {},
   "source": [
    "#### Project Goals"
   ]
  },
  {
   "cell_type": "markdown",
   "metadata": {},
   "source": [
    "You will work to write several functions that investigate a dataset of _Jeopardy!_ questions and answers. Filter the dataset for topics that you're interested in, compute the average difficulty of those questions, and train to become the next Jeopardy champion!"
   ]
  },
  {
   "cell_type": "markdown",
   "metadata": {},
   "source": [
    "## Prerequisites"
   ]
  },
  {
   "cell_type": "markdown",
   "metadata": {},
   "source": [
    "In order to complete this project, you should have completed the Pandas lessons in the <a href=\"https://www.codecademy.com/learn/paths/analyze-data-with-python\">Analyze Data with Python Skill Path</a>. You can also find those lessons in the <a href=\"https://www.codecademy.com/learn/data-processing-pandas\">Data Analysis with Pandas course</a> or the <a href=\"https://www.codecademy.com/learn/paths/data-science/\">Data Scientist Career Path</a>.\n",
    "\n",
    "Finally, the <a href=\"https://www.codecademy.com/learn/practical-data-cleaning\">Practical Data Cleaning</a> course may also be helpful."
   ]
  },
  {
   "cell_type": "markdown",
   "metadata": {},
   "source": [
    "## Project Requirements"
   ]
  },
  {
   "cell_type": "markdown",
   "metadata": {},
   "source": [
    "1. We've provided a csv file containing data about the game show _Jeopardy!_ in a file named `jeopardy.csv`. Load the data into a DataFrame and investigate its contents. Try to print out specific columns.\n",
    "\n",
    "   Note that in order to make this project as \"real-world\" as possible, we haven't modified the data at all - we're giving it to you exactly how we found it. As a result, this data isn't as \"clean\" as the datasets you normally find on Codecademy. More specifically, there's something odd about the column names. After you figure out the problem with the column names, you may want to rename them to make your life easier for the rest of the project.\n",
    "   \n",
    "   In order to display the full contents of a column, we've added this line of code for you:\n",
    "   \n",
    "   ```py\n",
    "   pd.set_option('display.max_colwidth', None)\n",
    "   ```"
   ]
  },
  {
   "cell_type": "code",
   "execution_count": 20,
   "metadata": {},
   "outputs": [
    {
     "name": "stdout",
     "output_type": "stream",
     "text": [
      "Index(['Show Number', ' Air Date', ' Round', ' Category', ' Value',\n",
      "       ' Question', ' Answer'],\n",
      "      dtype='object')\n",
      "Index(['Show Number', 'Air Date', 'Round', 'Category', 'Value', 'Question',\n",
      "       'Answer'],\n",
      "      dtype='object')\n"
     ]
    }
   ],
   "source": [
    "import pandas as pd\n",
    "pd.set_option('display.max_colwidth', None)\n",
    "\n",
    "jeopardy_data = pd.read_csv(\"jeopardy.csv\")\n",
    "print(jeopardy_data.columns)\n",
    "\n",
    "jeopardy_data=jeopardy_data.rename(columns={' Air Date' : 'Air Date', ' Round':'Round',' Category':'Category',' Value':'Value',\\\n",
    "                                            ' Question':'Question',' Answer':'Answer'})\n",
    "print(jeopardy_data.columns)"
   ]
  },
  {
   "cell_type": "markdown",
   "metadata": {},
   "source": [
    "2. Write a function that filters the dataset for questions that contains all of the words in a list of words. For example, when the list `[\"King\", \"England\"]` was passed to our function, the function returned a DataFrame of 49 rows. Every row had the strings `\"King\"` and `\"England\"` somewhere in its `\" Question\"`.\n",
    "\n",
    "   Test your function by printing out the column containing the question of each row of the dataset."
   ]
  },
  {
   "cell_type": "code",
   "execution_count": 28,
   "metadata": {},
   "outputs": [
    {
     "name": "stdout",
     "output_type": "stream",
     "text": [
      "66845                                                               She was Queen of France for 19 years, from 1774 to 1793\n",
      "70809                  Legend says one of Haydn's symphonies is nicknamed \"The Queen\" because this queen of France liked it\n",
      "96764          One of the most powerful Queen Mothers ever, this Medici was the mother of the last 3 Valois kings of France\n",
      "141359                                Queen of France 1559-60; Catholic Europe considered her the rightful queen of England\n",
      "179164                                  Just months after becoming the Duchess of Aquitaine, she became the Queen of France\n",
      "185407    The first ballet, \"Ballet Comique de la Reine\", was presented at the court of this Medici Queen of France in 1581\n",
      "208661                     Though born in France, Descartes died in this country where he had gone to teach Queen Christina\n",
      "Name: Question, dtype: object\n"
     ]
    }
   ],
   "source": [
    "def filtering_data(data,words):\n",
    "    filter=lambda x: all( word in x for word in words)\n",
    "    return data.loc[data['Question'].apply(filter)]\n",
    "\n",
    "filtered= filtering_data(jeopardy_data,['Queen','France'])\n",
    "print(filtered['Question'])"
   ]
  },
  {
   "cell_type": "markdown",
   "metadata": {},
   "source": [
    "3. Test your original function with a few different sets of words to try to find some ways your function breaks. Edit your function so it is more robust.\n",
    "\n",
    "   For example, think about capitalization. We probably want to find questions that contain the word `\"King\"` or `\"king\"`.\n",
    "   \n",
    "   You may also want to check to make sure you don't find rows that contain substrings of your given words. For example, our function found a question that didn't contain the word `\"king\"`, however it did contain the word `\"viking\"` &mdash; it found the `\"king\"` inside `\"viking\"`. Note that this also comes with some drawbacks &mdash; you would no longer find questions that contained words like `\"England's\"`."
   ]
  },
  {
   "cell_type": "code",
   "execution_count": 32,
   "metadata": {},
   "outputs": [
    {
     "name": "stdout",
     "output_type": "stream",
     "text": [
      "4953                    Both England's King George V & FDR put their stamp of approval on this \"King of Hobbies\"\n",
      "6337      In retaliation for Viking raids, this \"Unready\" king of England attacks Norse areas of the Isle of Man\n",
      "9191                    This king of England beat the odds to trounce the French in the 1415 Battle of Agincourt\n",
      "11710               This Scotsman, the first Stuart king of England, was called \"The Wisest Fool in Christendom\"\n",
      "13454                                       It's the number that followed the last king of England named William\n",
      "                                                           ...                                                  \n",
      "208295        In 1066 this great-great grandson of Rollo made what some call the last Viking invasion of England\n",
      "208742                      Dutch-born king who ruled England jointly with Mary II & is a tasty New Zealand fish\n",
      "213870                In 1781 William Herschel discovered Uranus & initially named it after this king of England\n",
      "216021          His nickname was \"Bertie\", but he used this name & number when he became king of England in 1901\n",
      "216789        This kingdom of England grew from 2 settlements, one founded around 495 by Cerdic & his son Cynric\n",
      "Name: Question, Length: 152, dtype: object\n"
     ]
    }
   ],
   "source": [
    "def filter_data(data, words):\n",
    "    filter= lambda x: all(word.lower() in x.lower() for word in words)\n",
    "    return data.loc[data['Question'].apply(filter)]\n",
    "\n",
    "filtered_data=filter_data(jeopardy_data, ['King','England'])\n",
    "print(filtered_data['Question'])\n"
   ]
  },
  {
   "cell_type": "markdown",
   "metadata": {},
   "source": [
    "4. We may want to eventually compute aggregate statistics, like `.mean()` on the `\" Value\"` column. But right now, the values in that column are strings. Convert the`\" Value\"` column to floats. If you'd like to, you can create a new column with float values.\n",
    "\n",
    "   While most of the values in the `\" Value\"` column represent a dollar amount as a string, note that some do not &mdash; these values will need to be handled differently!\n",
    "\n",
    "   Now that you can filter the dataset of question, use your new column that contains the float values of each question to find the \"difficulty\" of certain topics. For example, what is the average value of questions that contain the word `\"King\"`?\n",
    "   \n",
    "   Make sure to use the dataset that contains the float values as the dataset you use in your filtering function."
   ]
  },
  {
   "cell_type": "code",
   "execution_count": 48,
   "metadata": {},
   "outputs": [
    {
     "name": "stdout",
     "output_type": "stream",
     "text": [
      "0    $200\n",
      "1    $200\n",
      "2    $200\n",
      "3    $200\n",
      "4    $200\n",
      "5    $200\n",
      "6    $400\n",
      "7    $400\n",
      "8    $400\n",
      "9    $400\n",
      "Name: Value, dtype: object\n",
      "771.8833850722094\n"
     ]
    }
   ],
   "source": [
    "print(jeopardy_data['Value'].head(10))\n",
    "\n",
    "jeopardy_data[\"Float Value\"] = jeopardy_data[\"Value\"].apply(lambda x: float(x[1:].replace(',','')) if x != \"no value\" else 0)\n",
    "\n",
    "filtered = filter_data(jeopardy_data, [\"King\"])\n",
    "\n",
    "print(filtered[\"Float Value\"].mean())\n"
   ]
  },
  {
   "cell_type": "markdown",
   "metadata": {},
   "source": [
    "5. Write a function that returns the count of unique answers to all of the questions in a dataset. For example, after filtering the entire dataset to only questions containing the word `\"King\"`, we could then find all of the unique answers to those questions. The answer \"Henry VIII\" appeared 55 times and was the most common answer."
   ]
  },
  {
   "cell_type": "code",
   "execution_count": 52,
   "metadata": {},
   "outputs": [
    {
     "name": "stdout",
     "output_type": "stream",
     "text": [
      "Answer\n",
      "Henry VIII                   55\n",
      "Solomon                      35\n",
      "Richard III                  33\n",
      "Louis XIV                    31\n",
      "David                        30\n",
      "                             ..\n",
      "cardiac (in card I acted)     1\n",
      "Henderson                     1\n",
      "Computer                      1\n",
      "Indians                       1\n",
      "work                          1\n",
      "Name: count, Length: 5268, dtype: int64\n"
     ]
    }
   ],
   "source": [
    "def get_answer_counts(data):\n",
    "    return data[\"Answer\"].value_counts()\n",
    "\n",
    "print(get_answer_counts(filtered))"
   ]
  },
  {
   "cell_type": "code",
   "execution_count": null,
   "metadata": {},
   "outputs": [],
   "source": []
  }
 ],
 "metadata": {
  "kernelspec": {
   "display_name": "Python [conda env:base] *",
   "language": "python",
   "name": "conda-base-py"
  },
  "language_info": {
   "codemirror_mode": {
    "name": "ipython",
    "version": 3
   },
   "file_extension": ".py",
   "mimetype": "text/x-python",
   "name": "python",
   "nbconvert_exporter": "python",
   "pygments_lexer": "ipython3",
   "version": "3.12.7"
  }
 },
 "nbformat": 4,
 "nbformat_minor": 4
}
